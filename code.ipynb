{
 "cells": [
  {
   "attachments": {},
   "cell_type": "markdown",
   "metadata": {},
   "source": [
    "### Bibliothèques nécessaires"
   ]
  },
  {
   "cell_type": "code",
   "execution_count": 1,
   "metadata": {},
   "outputs": [],
   "source": [
    "import pandas as pd\n",
    "import numpy as np"
   ]
  },
  {
   "attachments": {},
   "cell_type": "markdown",
   "metadata": {},
   "source": [
    "#### Importer les données dans un DataFrame Pandas"
   ]
  },
  {
   "cell_type": "code",
   "execution_count": 2,
   "metadata": {},
   "outputs": [],
   "source": [
    "df = pd.read_excel(\"data.xlsx\")"
   ]
  },
  {
   "attachments": {},
   "cell_type": "markdown",
   "metadata": {},
   "source": [
    "### 2. Apprentissage du dictionnaire D avec la méthode K-SVD"
   ]
  },
  {
   "cell_type": "code",
   "execution_count": 3,
   "metadata": {},
   "outputs": [
    {
     "data": {
      "text/plain": [
       "(2430, 150)"
      ]
     },
     "execution_count": 3,
     "metadata": {},
     "output_type": "execute_result"
    }
   ],
   "source": [
    "df.shape"
   ]
  },
  {
   "cell_type": "code",
   "execution_count": 4,
   "metadata": {},
   "outputs": [],
   "source": [
    "df.dropna(inplace=True)"
   ]
  },
  {
   "cell_type": "code",
   "execution_count": 5,
   "metadata": {},
   "outputs": [
    {
     "data": {
      "text/plain": [
       "(98, 150)"
      ]
     },
     "execution_count": 5,
     "metadata": {},
     "output_type": "execute_result"
    }
   ],
   "source": [
    "df.shape"
   ]
  },
  {
   "cell_type": "code",
   "execution_count": 6,
   "metadata": {},
   "outputs": [],
   "source": [
    "def omp(X, D, eps, N):\n",
    "    m, n = D.shape\n",
    "    R = X\n",
    "    alpha = np.zeros(n)\n",
    "    K = 0\n",
    "    P = []\n",
    "    res = []\n",
    "    while np.linalg.norm(R,2)>eps and K<N:\n",
    "        for i in range(n):\n",
    "            d = D[:,i]\n",
    "            norm_d = np.linalg.norm(d,2)\n",
    "            B = abs(np.transpose(d)@R)\n",
    "            res.append(B/norm_d)\n",
    "        M = np.argmax(res)\n",
    "        P.append(M)\n",
    "        phi= D[:,P]\n",
    "        alpha[P] = np.linalg.pinv(phi)@X\n",
    "        R = X-D@alpha\n",
    "        res = []\n",
    "        K = K+1\n",
    "    return [alpha, R]"
   ]
  },
  {
   "cell_type": "code",
   "execution_count": 7,
   "metadata": {},
   "outputs": [],
   "source": [
    "def ksvd(X, K, eps, N):\n",
    "    m, n = X.shape\n",
    "    R = np.zeros((N, n)) # Une matrice où je veux mettre les normes des résidus afin de voir le comportement de la méthode\n",
    "    MAX_ITR = int(np.round(K/10)) # le nombre d'iteration maximal à effectuer pour l'OMP\n",
    "    D0 = X[:, :K] # On initialise le dictionnaire en considérant les premières colonnes des veceturs d'apprentissage\n",
    "    s = np.sqrt(np.diag(D0.T @ D0))\n",
    "    for i in range(K):\n",
    "        D0[:, i] = D0[:, i] / s[i] # On normalise les colonnes du dictionnaire\n",
    "    Alpha = np.zeros((K, n)) # On cherche n solutions parcimonieuses pour les vecteurs d'apprentissage, les alpha_i sont de dimension égale à K\n",
    "    for j in range(N):\n",
    "        for i_vect in range(n):\n",
    "            Alpha[:, i_vect], r = omp(X[:, i_vect], D0, eps, MAX_ITR) #On effectue une OMP et on renvoie la solution parcimonieuse, j'ai choisi de renvoyer également les normes des résidus\n",
    "            R[j, i_vect] = np.linalg.norm(r)\n",
    "        D = D0\n",
    "        for i_col in range(K): # Effectuer une SVD sur chaque colonne==> K colonnes issues de SVD\n",
    "            idx_k = np.nonzero(Alpha[i_col, :] != 0)[0]\n",
    "            if len(idx_k) > 0:\n",
    "                E_k = X - D @ Alpha + np.outer(D[:, i_col], Alpha[i_col, :])\n",
    "                Omega = np.zeros((n, len(idx_k)))\n",
    "                for inz in range(len(idx_k)):\n",
    "                    Omega[idx_k[inz], inz] = 1\n",
    "                E_kR = E_k @ Omega\n",
    "                U, delta, V = np.linalg.svd(E_kR)\n",
    "                D0[:, i_col] = U[:, 0]\n",
    "                Alpha[i_col, idx_k] = delta[0] * V[0, :]\n",
    "            else:\n",
    "                g = np.random.randint(0, n)\n",
    "                D0[:, i_col] = X[:, g] / np.linalg.norm(X[:, g])\n",
    "    return D0, Alpha, R\n"
   ]
  },
  {
   "cell_type": "code",
   "execution_count": 8,
   "metadata": {},
   "outputs": [],
   "source": [
    "# Définir les paramètres de l'apprentissage du dictionnaire\n",
    "eps=1e-6\n",
    "K = 150\n",
    "N = 100\n",
    "X = df.to_numpy()\n",
    "D, Alpha, r =ksvd(X, K, eps, N)"
   ]
  },
  {
   "cell_type": "code",
   "execution_count": 9,
   "metadata": {},
   "outputs": [
    {
     "data": {
      "text/plain": [
       "(98, 150)"
      ]
     },
     "execution_count": 9,
     "metadata": {},
     "output_type": "execute_result"
    }
   ],
   "source": [
    "D.shape"
   ]
  },
  {
   "cell_type": "code",
   "execution_count": 12,
   "metadata": {},
   "outputs": [
    {
     "data": {
      "text/plain": [
       "0.9866278570337588"
      ]
     },
     "execution_count": 12,
     "metadata": {},
     "output_type": "execute_result"
    }
   ],
   "source": [
    "D[0,0]"
   ]
  },
  {
   "attachments": {},
   "cell_type": "markdown",
   "metadata": {},
   "source": [
    "### 3. La méthode StOMP"
   ]
  },
  {
   "cell_type": "code",
   "execution_count": 10,
   "metadata": {},
   "outputs": [],
   "source": [
    "def StOMP(x, D, k, t, eps):\n",
    "    \"\"\"\n",
    "    Approxime y par une combinaison linéaire de k colonnes de D en utilisant l'algorithme StOMP\n",
    "    x: signal d'entrée\n",
    "    D: dictionnaire\n",
    "    k: contrainte de parcimonie\n",
    "    t: dans [2,3]\n",
    "    eps: critère d'arrêt\n",
    "    return: approximation parcimonieuse Alpha\n",
    "    \"\"\"\n",
    "    n = D.shape[1] # nombre d'atomes dans le dictionnaire\n",
    "    Alpha = np.zeros(n) # initialisation de l'approximation à zéro\n",
    "    r = x # initialisation du résidu à x\n",
    "    omega = [] # ensemble des indices des atomes sélectionnés\n",
    "    Cj = []\n",
    "    while np.linalg.norm(r) > eps: # boucle principale de l'algorithme\n",
    "        for j in range(n):\n",
    "            # Calcul du vecteur des contributions de tous les atomes\n",
    "            Cj.append(np.abs(D[:,j].T @ r)/np.linalg.norm(D[:,j]))\n",
    "            print(f\"Cj = {Cj}\")\n",
    "            # Calcule le seuillage\n",
    "            Sk = t*np.linalg.norm(r)/np.sqrt(n)\n",
    "            print(f\"Sk = {Sk}\")\n",
    "            # Indices des atomes dont la contribution est supérieure au seuillage Sk\n",
    "            Ak = list(np.where(Cj>Sk)[0])\n",
    "            print(f\"Ak = {Ak}\")\n",
    "            # On met à jour l’ensemble des indices\n",
    "            omega.extend(Ak)\n",
    "            omega = list(set(omega)) # On élimine les doublons pour éviter la redondance\n",
    "            print(f\"omega = {omega}\")\n",
    "            # On construit la matrice Phi\n",
    "            Phi_j = [D[:,p] for p in omega]\n",
    "            print(f\"Taille de Phi_j = {np.shape(Phi_j)}\")\n",
    "            print(f\"Taille de r = {np.shape(np.atleast_2d(r).T)}\")\n",
    "            # Calculer Alpha[j] par la méthode des moindres carrés\n",
    "            Alpha_j, resid, rank, s = np.linalg.lstsq(Phi_j, np.atleast_2d(r).T, rcond=None)\n",
    "    \n",
    "            # Mettre à jour le vecteur Alpha et le résidu r\n",
    "            Alpha[j] = Alpha_j[0]\n",
    "            r = r - Phi_j * Alpha_j\n",
    "    return Alpha"
   ]
  },
  {
   "cell_type": "code",
   "execution_count": 11,
   "metadata": {},
   "outputs": [
    {
     "name": "stdout",
     "output_type": "stream",
     "text": [
      "Cj = [array([1.        , 0.1542519 , 0.15643539, 0.32690762, 0.43644314,\n",
      "       0.28291246, 0.2682482 , 0.15164881, 0.14996635, 0.1605412 ,\n",
      "       0.42380472, 0.26227401, 0.20723458, 0.15819453, 0.27665349,\n",
      "       0.26548752, 0.23954435, 0.26839508, 0.31455035, 0.23958802,\n",
      "       0.26296407, 0.27727936, 0.13407415, 0.23237489, 0.2601079 ,\n",
      "       0.27222071, 0.26123383, 0.23970003, 0.2397306 , 0.21621513,\n",
      "       0.25084097, 0.22913544, 0.12794649, 0.22831751, 0.24520053,\n",
      "       0.2576121 , 0.20763822, 0.25200529, 0.25617892, 0.26823994,\n",
      "       0.25039503, 0.25914602, 0.27807476, 0.44989401, 0.2539329 ,\n",
      "       0.18060083, 0.49498376, 0.15317473, 0.23664894, 0.25248562,\n",
      "       0.24755425, 0.21966198, 0.24464411, 0.25618794, 0.23039821,\n",
      "       0.25382143, 0.25359141, 0.25460895, 0.10080259, 0.24036696,\n",
      "       0.2243238 , 0.25831816, 0.2425527 , 0.25534864, 0.25042927,\n",
      "       0.26242328, 0.26435058, 0.23888823, 0.17164536, 0.26418872,\n",
      "       0.26051196, 0.24880396, 0.26307665, 0.24701374, 0.24655511,\n",
      "       0.22436145, 0.26210472, 0.25914593, 0.23080545, 0.20676643,\n",
      "       0.21268696, 0.24761458, 0.26136654, 0.26153999, 0.25694957,\n",
      "       0.20899053, 0.14601048, 0.2655137 , 0.25699766, 0.25824737,\n",
      "       0.25498807, 0.24524601, 0.26580456, 0.25076483, 0.26934864,\n",
      "       0.18207999, 0.18673263, 0.17459676, 0.22617281, 0.2593288 ,\n",
      "       0.23154945, 0.26881812, 0.25694987, 0.25599437, 0.25545064,\n",
      "       0.22019245, 0.24069405, 0.25608008, 0.26476228, 0.29375641,\n",
      "       0.25396076, 0.28156951, 0.2487964 , 0.25689475, 0.24361601,\n",
      "       0.21041234, 0.25224549, 0.25609386, 0.29203859, 0.25082961,\n",
      "       0.2461572 , 0.32326008, 0.23610957, 0.10393175, 0.22495885,\n",
      "       0.2522572 , 0.29416193, 0.26303502, 0.27209456, 0.26622943,\n",
      "       0.23698521, 0.2043148 , 0.24124775, 0.1245238 , 0.24764314,\n",
      "       0.24779133, 0.26107504, 0.20648631, 0.25742859, 0.26228035,\n",
      "       0.25898346, 0.24879515, 0.23958627, 0.12733625, 0.27418374,\n",
      "       0.24598318, 0.33302967, 0.28990209, 0.45859214, 0.25881291])]\n",
      "Sk = 2.0\n",
      "Ak = []\n",
      "omega = []\n",
      "Taille de Phi_j = (0,)\n",
      "Taille de r = (150, 98)\n"
     ]
    },
    {
     "ename": "LinAlgError",
     "evalue": "1-dimensional array given. Array must be two-dimensional",
     "output_type": "error",
     "traceback": [
      "\u001b[1;31m---------------------------------------------------------------------------\u001b[0m",
      "\u001b[1;31mLinAlgError\u001b[0m                               Traceback (most recent call last)",
      "\u001b[1;32mh:\\Cours\\ING2\\S2\\Compressive Sensing\\Projet\\code.ipynb Cell 15\u001b[0m in \u001b[0;36m<cell line: 1>\u001b[1;34m()\u001b[0m\n\u001b[1;32m----> <a href='vscode-notebook-cell:/h%3A/Cours/ING2/S2/Compressive%20Sensing/Projet/code.ipynb#X20sZmlsZQ%3D%3D?line=0'>1</a>\u001b[0m StOMP(X, D, \u001b[39m10\u001b[39;49m, \u001b[39m2\u001b[39;49m, \u001b[39m1e-6\u001b[39;49m)\n",
      "\u001b[1;32mh:\\Cours\\ING2\\S2\\Compressive Sensing\\Projet\\code.ipynb Cell 15\u001b[0m in \u001b[0;36mStOMP\u001b[1;34m(x, D, k, t, eps)\u001b[0m\n\u001b[0;32m     <a href='vscode-notebook-cell:/h%3A/Cours/ING2/S2/Compressive%20Sensing/Projet/code.ipynb#X20sZmlsZQ%3D%3D?line=33'>34</a>\u001b[0m \u001b[39mprint\u001b[39m(\u001b[39mf\u001b[39m\u001b[39m\"\u001b[39m\u001b[39mTaille de r = \u001b[39m\u001b[39m{\u001b[39;00mnp\u001b[39m.\u001b[39mshape(np\u001b[39m.\u001b[39matleast_2d(r)\u001b[39m.\u001b[39mT)\u001b[39m}\u001b[39;00m\u001b[39m\"\u001b[39m)\n\u001b[0;32m     <a href='vscode-notebook-cell:/h%3A/Cours/ING2/S2/Compressive%20Sensing/Projet/code.ipynb#X20sZmlsZQ%3D%3D?line=34'>35</a>\u001b[0m \u001b[39m# Calculer Alpha[j] par la méthode des moindres carrés\u001b[39;00m\n\u001b[1;32m---> <a href='vscode-notebook-cell:/h%3A/Cours/ING2/S2/Compressive%20Sensing/Projet/code.ipynb#X20sZmlsZQ%3D%3D?line=35'>36</a>\u001b[0m Alpha_j, resid, rank, s \u001b[39m=\u001b[39m np\u001b[39m.\u001b[39;49mlinalg\u001b[39m.\u001b[39;49mlstsq(Phi_j, np\u001b[39m.\u001b[39;49matleast_2d(r)\u001b[39m.\u001b[39;49mT, rcond\u001b[39m=\u001b[39;49m\u001b[39mNone\u001b[39;49;00m)\n\u001b[0;32m     <a href='vscode-notebook-cell:/h%3A/Cours/ING2/S2/Compressive%20Sensing/Projet/code.ipynb#X20sZmlsZQ%3D%3D?line=37'>38</a>\u001b[0m \u001b[39m# Mettre à jour le vecteur Alpha et le résidu r\u001b[39;00m\n\u001b[0;32m     <a href='vscode-notebook-cell:/h%3A/Cours/ING2/S2/Compressive%20Sensing/Projet/code.ipynb#X20sZmlsZQ%3D%3D?line=38'>39</a>\u001b[0m Alpha[j] \u001b[39m=\u001b[39m Alpha_j[\u001b[39m0\u001b[39m]\n",
      "File \u001b[1;32m<__array_function__ internals>:180\u001b[0m, in \u001b[0;36mlstsq\u001b[1;34m(*args, **kwargs)\u001b[0m\n",
      "File \u001b[1;32m~\\AppData\\Roaming\\Python\\Python310\\site-packages\\numpy\\linalg\\linalg.py:2259\u001b[0m, in \u001b[0;36mlstsq\u001b[1;34m(a, b, rcond)\u001b[0m\n\u001b[0;32m   2257\u001b[0m \u001b[39mif\u001b[39;00m is_1d:\n\u001b[0;32m   2258\u001b[0m     b \u001b[39m=\u001b[39m b[:, newaxis]\n\u001b[1;32m-> 2259\u001b[0m _assert_2d(a, b)\n\u001b[0;32m   2260\u001b[0m m, n \u001b[39m=\u001b[39m a\u001b[39m.\u001b[39mshape[\u001b[39m-\u001b[39m\u001b[39m2\u001b[39m:]\n\u001b[0;32m   2261\u001b[0m m2, n_rhs \u001b[39m=\u001b[39m b\u001b[39m.\u001b[39mshape[\u001b[39m-\u001b[39m\u001b[39m2\u001b[39m:]\n",
      "File \u001b[1;32m~\\AppData\\Roaming\\Python\\Python310\\site-packages\\numpy\\linalg\\linalg.py:190\u001b[0m, in \u001b[0;36m_assert_2d\u001b[1;34m(*arrays)\u001b[0m\n\u001b[0;32m    188\u001b[0m \u001b[39mfor\u001b[39;00m a \u001b[39min\u001b[39;00m arrays:\n\u001b[0;32m    189\u001b[0m     \u001b[39mif\u001b[39;00m a\u001b[39m.\u001b[39mndim \u001b[39m!=\u001b[39m \u001b[39m2\u001b[39m:\n\u001b[1;32m--> 190\u001b[0m         \u001b[39mraise\u001b[39;00m LinAlgError(\u001b[39m'\u001b[39m\u001b[39m%d\u001b[39;00m\u001b[39m-dimensional array given. Array must be \u001b[39m\u001b[39m'\u001b[39m\n\u001b[0;32m    191\u001b[0m                 \u001b[39m'\u001b[39m\u001b[39mtwo-dimensional\u001b[39m\u001b[39m'\u001b[39m \u001b[39m%\u001b[39m a\u001b[39m.\u001b[39mndim)\n",
      "\u001b[1;31mLinAlgError\u001b[0m: 1-dimensional array given. Array must be two-dimensional"
     ]
    }
   ],
   "source": [
    "StOMP(X, D, 10, 2, 1e-6)"
   ]
  },
  {
   "cell_type": "code",
   "execution_count": null,
   "metadata": {},
   "outputs": [],
   "source": []
  },
  {
   "cell_type": "code",
   "execution_count": null,
   "metadata": {},
   "outputs": [],
   "source": []
  }
 ],
 "metadata": {
  "kernelspec": {
   "display_name": "Python 3",
   "language": "python",
   "name": "python3"
  },
  "language_info": {
   "codemirror_mode": {
    "name": "ipython",
    "version": 3
   },
   "file_extension": ".py",
   "mimetype": "text/x-python",
   "name": "python",
   "nbconvert_exporter": "python",
   "pygments_lexer": "ipython3",
   "version": "3.10.3"
  },
  "orig_nbformat": 4
 },
 "nbformat": 4,
 "nbformat_minor": 2
}
